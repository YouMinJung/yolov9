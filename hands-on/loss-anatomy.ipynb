{
 "cells": [
  {
   "cell_type": "markdown",
   "metadata": {},
   "source": [
    "model, use_dfl 인자로 값을 전달 받는다. hyperparameter의 cls_pw는 클래스 손실 함수의 pos_weight의 값을 의미한다. label_smoothing 키 값이 설정되어 있으면 class label에 대한 positive, negative soft label이 생성성 된다."
   ]
  },
  {
   "cell_type": "markdown",
   "metadata": {},
   "source": [
    "```python\n",
    "class ComputeLoss:\n",
    "    def __init__(self, model, use_dfl=True):\n",
    "        ...\n",
    "        # Define criteria\n",
    "        BCEcls = nn.BCEWithLogitsLoss(pos_weight=torch.tensor([h[\"cls_pw\"]], device=device), reduction='none')\n",
    "\n",
    "        # Class label smoothing https://arxiv.org/pdf/1902.04103.pdf eqn 3\n",
    "        self.cp, self.cn = smooth_BCE(eps=h.get(\"label_smoothing\", 0.0))  # positive, negative BCE targets\n",
    "        ...\n",
    "```"
   ]
  },
  {
   "cell_type": "markdown",
   "metadata": {},
   "source": [
    "fl_gamma 키 값이 0 보다 큰 값으로 설정되어 있으면 BCEcls를 FocalLoss로 생성한다."
   ]
  },
  {
   "cell_type": "markdown",
   "metadata": {},
   "source": [
    "```python\n",
    "        ...\n",
    "        # Focal loss\n",
    "        g = h[\"fl_gamma\"]  # focal loss gamma\n",
    "        if g > 0:\n",
    "            BCEcls = FocalLoss(BCEcls, g)\n",
    "        ...\n",
    "```"
   ]
  },
  {
   "cell_type": "markdown",
   "metadata": {},
   "source": [
    "```python\n",
    "        ...\n",
    "        self.assigner = TaskAlignedAssigner(topk=int(os.getenv('YOLOM', 10)),\n",
    "                                            num_classes=self.nc,\n",
    "                                            alpha=float(os.getenv('YOLOA', 0.5)),\n",
    "                                            beta=float(os.getenv('YOLOB', 6.0)))\n",
    "        self.bbox_loss = BboxLoss(m.reg_max - 1, use_dfl=use_dfl).to(device)\n",
    "        ...\n",
    "```"
   ]
  }
 ],
 "metadata": {
  "language_info": {
   "name": "python"
  }
 },
 "nbformat": 4,
 "nbformat_minor": 2
}
